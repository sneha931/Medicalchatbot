{
 "cells": [
  {
   "cell_type": "code",
   "execution_count": 1,
   "id": "c932db81",
   "metadata": {},
   "outputs": [
    {
     "data": {
      "text/plain": [
       "'c:\\\\Users\\\\vdine\\\\Medicalchatbot\\\\resources'"
      ]
     },
     "execution_count": 1,
     "metadata": {},
     "output_type": "execute_result"
    }
   ],
   "source": [
    "%pwd"
   ]
  },
  {
   "cell_type": "code",
   "execution_count": 2,
   "id": "f537b339",
   "metadata": {},
   "outputs": [],
   "source": [
    "import os\n",
    "os.chdir(\"../\")"
   ]
  },
  {
   "cell_type": "code",
   "execution_count": 3,
   "id": "6c6c092a",
   "metadata": {},
   "outputs": [
    {
     "data": {
      "text/plain": [
       "'c:\\\\Users\\\\vdine\\\\Medicalchatbot'"
      ]
     },
     "execution_count": 3,
     "metadata": {},
     "output_type": "execute_result"
    }
   ],
   "source": [
    "%pwd"
   ]
  },
  {
   "cell_type": "code",
   "execution_count": 4,
   "id": "d25303e0",
   "metadata": {},
   "outputs": [
    {
     "name": "stderr",
     "output_type": "stream",
     "text": [
      "c:\\Users\\vdine\\Medicalchatbot\\venv\\Lib\\site-packages\\tqdm\\auto.py:21: TqdmWarning: IProgress not found. Please update jupyter and ipywidgets. See https://ipywidgets.readthedocs.io/en/stable/user_install.html\n",
      "  from .autonotebook import tqdm as notebook_tqdm\n"
     ]
    }
   ],
   "source": [
    "from langchain.document_loaders import PyPDFLoader,DirectoryLoader\n",
    "from langchain.text_splitter import RecursiveCharacterTextSplitter\n"
   ]
  },
  {
   "cell_type": "code",
   "execution_count": 5,
   "id": "934b228a",
   "metadata": {},
   "outputs": [],
   "source": [
    "def load_pdf_files(data):\n",
    "    loader=DirectoryLoader(data,glob=\"*.pdf\",loader_cls=PyPDFLoader)\n",
    "    documents=loader.load()\n",
    "    return documents\n"
   ]
  },
  {
   "cell_type": "code",
   "execution_count": 6,
   "id": "b2a037e9",
   "metadata": {},
   "outputs": [],
   "source": [
    "extract_data=load_pdf_files(\"data\")"
   ]
  },
  {
   "cell_type": "code",
   "execution_count": 7,
   "id": "0e325977",
   "metadata": {},
   "outputs": [
    {
     "data": {
      "text/plain": [
       "637"
      ]
     },
     "execution_count": 7,
     "metadata": {},
     "output_type": "execute_result"
    }
   ],
   "source": [
    "len(extract_data)"
   ]
  },
  {
   "cell_type": "code",
   "execution_count": 8,
   "id": "1e367ebb",
   "metadata": {},
   "outputs": [],
   "source": [
    "from typing import List\n",
    "from langchain.schema import Document\n",
    "def filter_to_minimaldocs(docs:List[Document])->List[Document]:\n",
    "    minimal_docs: List[Document]=[]\n",
    "    for doc in docs:\n",
    "        src=doc.metadata.get(\"source\")\n",
    "        minimal_docs.append(\n",
    "            Document(\n",
    "                page_content=doc.page_content,\n",
    "                metadata={\"source\":src}      \n",
    "            )\n",
    "        )\n",
    "    return minimal_docs"
   ]
  },
  {
   "cell_type": "code",
   "execution_count": 9,
   "id": "943e9128",
   "metadata": {},
   "outputs": [],
   "source": [
    "minimal_docs=filter_to_minimaldocs(extract_data)"
   ]
  },
  {
   "cell_type": "code",
   "execution_count": 10,
   "id": "89a4b0b4",
   "metadata": {},
   "outputs": [],
   "source": [
    "def text_split(minimal_docs):\n",
    "    text_splitter=RecursiveCharacterTextSplitter(\n",
    "        chunk_size=500,\n",
    "        chunk_overlap=20\n",
    "    )\n",
    "    texts_chunks=text_splitter.split_documents(minimal_docs)\n",
    "    return texts_chunks"
   ]
  },
  {
   "cell_type": "code",
   "execution_count": 11,
   "id": "bf195f68",
   "metadata": {},
   "outputs": [],
   "source": [
    "chunked_data=text_split(minimal_docs)"
   ]
  },
  {
   "cell_type": "code",
   "execution_count": 12,
   "id": "3b6fd7f9",
   "metadata": {},
   "outputs": [
    {
     "data": {
      "text/plain": [
       "5859"
      ]
     },
     "execution_count": 12,
     "metadata": {},
     "output_type": "execute_result"
    }
   ],
   "source": [
    "len(chunked_data)"
   ]
  },
  {
   "cell_type": "code",
   "execution_count": 13,
   "id": "108c335d",
   "metadata": {},
   "outputs": [],
   "source": [
    "from langchain_huggingface import HuggingFaceEmbeddings\n",
    "\n",
    "import torch\n",
    "def download_embeddings():\n",
    "    model_name=\"sentence-transformers/all-MiniLM-L6-v2\"\n",
    "    embeddings=HuggingFaceEmbeddings(\n",
    "        model_name=model_name,\n",
    "        model_kwargs={\"device\":\"cuda\" if torch.cuda.is_available() else \"cpu\"}\n",
    "    )\n",
    "    return embeddings\n",
    "\n",
    "embedding=download_embeddings()"
   ]
  },
  {
   "cell_type": "code",
   "execution_count": 14,
   "id": "0ca6f706",
   "metadata": {},
   "outputs": [
    {
     "data": {
      "text/plain": [
       "[-0.0627717599272728,\n",
       " 0.05495879426598549,\n",
       " 0.052164845168590546,\n",
       " 0.0857900083065033,\n",
       " -0.0827488973736763,\n",
       " -0.07457297295331955,\n",
       " 0.06855470687150955,\n",
       " 0.018396394327282906,\n",
       " -0.08201129734516144,\n",
       " -0.03738484904170036,\n",
       " 0.012124893255531788,\n",
       " 0.0035183229483664036,\n",
       " -0.004134293645620346,\n",
       " -0.04378441721200943,\n",
       " 0.021807299926877022,\n",
       " -0.00510272104293108,\n",
       " 0.019546564668416977,\n",
       " -0.0423487089574337,\n",
       " -0.11035966873168945,\n",
       " 0.005424527917057276,\n",
       " -0.055734783411026,\n",
       " 0.02805238962173462,\n",
       " -0.02315872348845005,\n",
       " 0.028481375426054,\n",
       " -0.05370955914258957,\n",
       " -0.052601538598537445,\n",
       " 0.03393925353884697,\n",
       " 0.045388635247945786,\n",
       " 0.023718422278761864,\n",
       " -0.07312081754207611,\n",
       " 0.05477774888277054,\n",
       " 0.0170473363250494,\n",
       " 0.08136039972305298,\n",
       " -0.0028627056162804365,\n",
       " 0.011958062648773193,\n",
       " 0.07355856150388718,\n",
       " -0.09423744678497314,\n",
       " -0.0813620463013649,\n",
       " 0.04001539200544357,\n",
       " 0.0006921913009136915,\n",
       " -0.01339334063231945,\n",
       " -0.05453811213374138,\n",
       " 0.005151401273906231,\n",
       " -0.026139769703149796,\n",
       " 0.0368071012198925,\n",
       " -0.03395958989858627,\n",
       " 0.021093212068080902,\n",
       " 0.055948879569768906,\n",
       " 0.05778130516409874,\n",
       " -0.0054183765314519405,\n",
       " -0.06841319799423218,\n",
       " -0.09023699164390564,\n",
       " -0.04286673292517662,\n",
       " 0.023652682080864906,\n",
       " 0.12149356305599213,\n",
       " 0.032392844557762146,\n",
       " -0.02265944518148899,\n",
       " -0.02328176610171795,\n",
       " 0.04886598512530327,\n",
       " -0.059351544827222824,\n",
       " -0.03406606614589691,\n",
       " 0.03596258535981178,\n",
       " -0.08115777373313904,\n",
       " -0.021979473531246185,\n",
       " 0.013187813572585583,\n",
       " -0.04585552215576172,\n",
       " -0.07041982561349869,\n",
       " -0.05260329321026802,\n",
       " -0.04802926629781723,\n",
       " -0.07454610615968704,\n",
       " -0.028731804341077805,\n",
       " 0.012831883504986763,\n",
       " -0.042921729385852814,\n",
       " 0.0053663537837564945,\n",
       " -0.03909760341048241,\n",
       " 0.015919268131256104,\n",
       " 0.020243527367711067,\n",
       " 0.0052666617557406425,\n",
       " 0.009581327438354492,\n",
       " -0.0047676158137619495,\n",
       " 0.04808773100376129,\n",
       " -0.07309659570455551,\n",
       " -0.05034444108605385,\n",
       " 0.009653042070567608,\n",
       " 0.013496600091457367,\n",
       " 0.00043035211274400353,\n",
       " 0.019725199788808823,\n",
       " 0.062495484948158264,\n",
       " -0.01822715625166893,\n",
       " 0.03109716810286045,\n",
       " -0.08885394781827927,\n",
       " 0.04813242703676224,\n",
       " 0.026074277237057686,\n",
       " -0.011494041420519352,\n",
       " -0.09936171025037766,\n",
       " -0.027338232845067978,\n",
       " 0.07621528953313828,\n",
       " -0.002096540527418256,\n",
       " -0.12358873337507248,\n",
       " 0.29806533455848694,\n",
       " 0.05630640685558319,\n",
       " 0.0784800797700882,\n",
       " 0.01104352530092001,\n",
       " 0.052400071173906326,\n",
       " -0.0011880238307639956,\n",
       " 0.000965684128459543,\n",
       " -0.05432729423046112,\n",
       " 0.02676473930478096,\n",
       " -0.012194258160889149,\n",
       " 0.010717053897678852,\n",
       " -3.707817450049333e-05,\n",
       " -0.035565707832574844,\n",
       " -0.03208553418517113,\n",
       " 0.016168801113963127,\n",
       " 0.08674969524145126,\n",
       " 0.018139464780688286,\n",
       " -0.01101755816489458,\n",
       " 0.04974030703306198,\n",
       " 0.02258104830980301,\n",
       " -2.2351243387674913e-05,\n",
       " 0.014939067885279655,\n",
       " -0.011176216416060925,\n",
       " 0.005659336689859629,\n",
       " -0.004114812705665827,\n",
       " 0.003182594431564212,\n",
       " 0.02386500872671604,\n",
       " 0.01805107854306698,\n",
       " -5.850476159002819e-33,\n",
       " 0.05610707402229309,\n",
       " -0.03449849784374237,\n",
       " 0.033111825585365295,\n",
       " 0.1677229106426239,\n",
       " -0.031038135290145874,\n",
       " -0.0048353467136621475,\n",
       " -0.06106499955058098,\n",
       " -0.06271100044250488,\n",
       " 0.027426589280366898,\n",
       " 0.06364015489816666,\n",
       " 0.043340425938367844,\n",
       " 0.06082936003804207,\n",
       " -0.018160779029130936,\n",
       " 0.04280414804816246,\n",
       " 0.019024066627025604,\n",
       " 0.08797787874937057,\n",
       " -0.039132826030254364,\n",
       " 0.04414263367652893,\n",
       " -0.004941055551171303,\n",
       " 0.051052697002887726,\n",
       " -0.05431916192173958,\n",
       " 0.011173113249242306,\n",
       " 0.0266990028321743,\n",
       " 0.07509659975767136,\n",
       " 0.048690132796764374,\n",
       " -0.04354275390505791,\n",
       " 0.01333867758512497,\n",
       " -0.10262981057167053,\n",
       " 0.05215669423341751,\n",
       " 0.02223237417638302,\n",
       " -0.029741793870925903,\n",
       " -0.04227066785097122,\n",
       " 0.022984562441706657,\n",
       " 0.03957443684339523,\n",
       " 0.009094778448343277,\n",
       " 0.020864685997366905,\n",
       " 0.00509262178093195,\n",
       " -0.06276409327983856,\n",
       " -0.05021766945719719,\n",
       " -0.005225018598139286,\n",
       " -0.05349820479750633,\n",
       " 0.029773466289043427,\n",
       " 0.021753670647740364,\n",
       " -0.020678048953413963,\n",
       " 0.023866144940257072,\n",
       " 0.005806638393551111,\n",
       " -0.0012137835146859288,\n",
       " 0.022660311311483383,\n",
       " 0.0031567111145704985,\n",
       " 0.030960429459810257,\n",
       " -0.05296808481216431,\n",
       " 0.01867694966495037,\n",
       " -0.1401534080505371,\n",
       " 0.04147820174694061,\n",
       " -0.010278256610035896,\n",
       " -0.011593146249651909,\n",
       " -0.033458251506090164,\n",
       " -0.05058891698718071,\n",
       " 0.04686781391501427,\n",
       " 0.024715127423405647,\n",
       " 0.03349681571125984,\n",
       " 0.11170760542154312,\n",
       " -0.0403486005961895,\n",
       " -0.0042844959534704685,\n",
       " -0.08074361085891724,\n",
       " -0.05611216649413109,\n",
       " 0.03833862021565437,\n",
       " 0.011508360505104065,\n",
       " 0.06873797625303268,\n",
       " -0.03811735659837723,\n",
       " -0.04598833993077278,\n",
       " -0.016439592465758324,\n",
       " 0.024412987753748894,\n",
       " 0.011722046881914139,\n",
       " 0.008168509230017662,\n",
       " 0.039036914706230164,\n",
       " 0.026186540722846985,\n",
       " 0.01048184558749199,\n",
       " 0.04286017641425133,\n",
       " -0.04638158529996872,\n",
       " 0.006481093820184469,\n",
       " 0.044423412531614304,\n",
       " -0.01883763261139393,\n",
       " 0.00726337032392621,\n",
       " 0.05617952719330788,\n",
       " 0.053477976471185684,\n",
       " -0.02148376777768135,\n",
       " -0.084485724568367,\n",
       " -0.012813972309231758,\n",
       " -0.039475537836551666,\n",
       " -0.05802653357386589,\n",
       " 0.03133402392268181,\n",
       " 0.045417316257953644,\n",
       " 0.011839081533253193,\n",
       " -0.017906315624713898,\n",
       " 4.586215086962156e-33,\n",
       " 0.13150791823863983,\n",
       " 0.07932813465595245,\n",
       " -0.09495951235294342,\n",
       " -0.024472175166010857,\n",
       " -0.055816203355789185,\n",
       " -0.009145256131887436,\n",
       " -0.032090410590171814,\n",
       " 0.11379317939281464,\n",
       " -0.14441627264022827,\n",
       " 0.00850959587842226,\n",
       " 0.030667033046483994,\n",
       " -0.01241487916558981,\n",
       " 0.07017052918672562,\n",
       " 0.028179822489619255,\n",
       " 0.04082208126783371,\n",
       " 0.019590837880969048,\n",
       " 0.14295044541358948,\n",
       " 0.0568699836730957,\n",
       " -0.040122076869010925,\n",
       " -0.017843913286924362,\n",
       " -0.06138443946838379,\n",
       " 0.0008760516648180783,\n",
       " -0.054906200617551804,\n",
       " -0.007102516014128923,\n",
       " -0.0004941486986353993,\n",
       " -0.013119390234351158,\n",
       " -0.0022669434547424316,\n",
       " 0.05856667086482048,\n",
       " -0.09971513599157333,\n",
       " -0.025532379746437073,\n",
       " 0.07856457680463791,\n",
       " 0.020517690107226372,\n",
       " -0.004633414093405008,\n",
       " 0.030302615836262703,\n",
       " 0.016833249479532242,\n",
       " 0.09143757820129395,\n",
       " 0.016769731417298317,\n",
       " -0.07980289310216904,\n",
       " 0.04251027852296829,\n",
       " -0.08439735323190689,\n",
       " -0.0238590519875288,\n",
       " 0.04701947048306465,\n",
       " 0.0024148565717041492,\n",
       " 0.10931778699159622,\n",
       " -0.03390537202358246,\n",
       " -0.06402090191841125,\n",
       " -0.037723854184150696,\n",
       " 0.029074762016534805,\n",
       " -0.04244937375187874,\n",
       " 0.015861935913562775,\n",
       " -0.09060660004615784,\n",
       " -0.05576631799340248,\n",
       " 0.022608749568462372,\n",
       " 0.008000322617590427,\n",
       " -0.02246999368071556,\n",
       " 0.022058147937059402,\n",
       " -0.025199150666594505,\n",
       " 0.03033953718841076,\n",
       " 0.010110795497894287,\n",
       " -0.018547305837273598,\n",
       " 0.016989590600132942,\n",
       " 0.0763101875782013,\n",
       " 0.0416206493973732,\n",
       " 0.08752065151929855,\n",
       " -0.012092760764062405,\n",
       " 0.03113519214093685,\n",
       " -0.03219042718410492,\n",
       " 0.012797970324754715,\n",
       " 0.013538764789700508,\n",
       " -0.02975240908563137,\n",
       " 0.03678983077406883,\n",
       " -0.005846079438924789,\n",
       " -0.01105553936213255,\n",
       " 0.03867030143737793,\n",
       " -0.02074146457016468,\n",
       " -0.011265086010098457,\n",
       " -0.023767532780766487,\n",
       " -0.009984560310840607,\n",
       " -0.023108458146452904,\n",
       " 0.012011353857815266,\n",
       " -0.010644523426890373,\n",
       " 0.0513606034219265,\n",
       " -0.02773405611515045,\n",
       " -0.00021139727323316038,\n",
       " 0.0009463390451855958,\n",
       " -0.03158264234662056,\n",
       " 0.051229290664196014,\n",
       " 0.04432860389351845,\n",
       " -0.003773423843085766,\n",
       " -0.04166809841990471,\n",
       " 0.02895456925034523,\n",
       " 0.03306133672595024,\n",
       " -0.015184277668595314,\n",
       " -0.00015773120685480535,\n",
       " -0.04412437602877617,\n",
       " -1.480350064753111e-08,\n",
       " -0.00869594607502222,\n",
       " 0.00013009380199946463,\n",
       " 0.01647108979523182,\n",
       " 0.05922885611653328,\n",
       " 0.04553878307342529,\n",
       " 0.03312685713171959,\n",
       " -0.09335850179195404,\n",
       " -0.03902722895145416,\n",
       " -0.020656151697039604,\n",
       " 0.012607559561729431,\n",
       " 0.06953950226306915,\n",
       " 0.07919187843799591,\n",
       " -0.07191091775894165,\n",
       " -0.0047850944101810455,\n",
       " 0.08800476789474487,\n",
       " 0.04758848249912262,\n",
       " -0.05219274014234543,\n",
       " -0.00752552505582571,\n",
       " -0.05771181359887123,\n",
       " -0.09295844286680222,\n",
       " -0.0045015024952590466,\n",
       " 0.001178039121441543,\n",
       " 0.02444724552333355,\n",
       " -0.06403965502977371,\n",
       " -0.0032275081612169743,\n",
       " -0.02796536311507225,\n",
       " -0.035407572984695435,\n",
       " 0.025036673992872238,\n",
       " -0.009852757677435875,\n",
       " 0.01325240544974804,\n",
       " 0.0011385205434635282,\n",
       " 0.17805425822734833,\n",
       " -0.036146294325590134,\n",
       " -0.007625906262546778,\n",
       " -0.032201241701841354,\n",
       " -0.042293235659599304,\n",
       " 0.004774454515427351,\n",
       " 0.02853180468082428,\n",
       " 0.07472298294305801,\n",
       " -0.014894150197505951,\n",
       " -0.056220654398202896,\n",
       " 0.02723579667508602,\n",
       " -0.011199447326362133,\n",
       " -0.1016678735613823,\n",
       " -0.019529249519109726,\n",
       " 0.027246462181210518,\n",
       " 0.03508107364177704,\n",
       " -0.0816056951880455,\n",
       " -0.0013377582654356956,\n",
       " -0.07635194808244705,\n",
       " -0.03995734825730324,\n",
       " 0.04078188166022301,\n",
       " 0.060128677636384964,\n",
       " 0.07254577428102493,\n",
       " 0.06967505812644958,\n",
       " 0.08909131586551666,\n",
       " 0.015957804396748543,\n",
       " -0.01487354189157486,\n",
       " -0.04674159735441208,\n",
       " -0.013411267660558224,\n",
       " 0.06513479351997375,\n",
       " 0.050905924290418625,\n",
       " 0.051483552902936935,\n",
       " 0.007092184852808714]"
      ]
     },
     "execution_count": 14,
     "metadata": {},
     "output_type": "execute_result"
    }
   ],
   "source": [
    "vector=embedding.embed_query(\"hello\")\n",
    "vector"
   ]
  },
  {
   "cell_type": "code",
   "execution_count": 15,
   "id": "4eb3c31d",
   "metadata": {},
   "outputs": [
    {
     "data": {
      "text/plain": [
       "384"
      ]
     },
     "execution_count": 15,
     "metadata": {},
     "output_type": "execute_result"
    }
   ],
   "source": [
    "len(vector)"
   ]
  },
  {
   "cell_type": "code",
   "execution_count": 16,
   "id": "3f790114",
   "metadata": {},
   "outputs": [],
   "source": [
    "from dotenv import load_dotenv\n",
    "load_dotenv()\n",
    "import os\n"
   ]
  },
  {
   "cell_type": "code",
   "execution_count": 17,
   "id": "c18ab75d",
   "metadata": {},
   "outputs": [],
   "source": [
    "weaviate_api_key = os.getenv(\"weaviate_api_key\")\n",
    "openrouter_api_key = os.getenv(\"OPENROUTER_API_KEY\") \n",
    "weaviate_url = os.getenv(\"weaviate_url\")"
   ]
  },
  {
   "cell_type": "code",
   "execution_count": 18,
   "id": "bdf59f86",
   "metadata": {},
   "outputs": [],
   "source": [
    "os.environ[\"WEAVIATE_API_KEY\"] = weaviate_api_key\n",
    "os.environ[\"OPENROUTER_API_KEY\"] = openrouter_api_key\n",
    "os.environ[\"WEAVIATE_URL\"] = weaviate_url"
   ]
  },
  {
   "cell_type": "code",
   "execution_count": 19,
   "id": "9091cf4d",
   "metadata": {},
   "outputs": [
    {
     "name": "stdout",
     "output_type": "stream",
     "text": [
      "✅ Connected to Weaviate successfully!\n"
     ]
    }
   ],
   "source": [
    "from weaviate import connect_to_weaviate_cloud\n",
    "import os\n",
    "from dotenv import load_dotenv\n",
    "\n",
    "# Load environment variables\n",
    "load_dotenv()\n",
    "\n",
    "# ✅ Connect to Weaviate Cloud (new API)\n",
    "client = connect_to_weaviate_cloud(\n",
    "    cluster_url=os.getenv(\"WEAVIATE_URL\"),          # Example: \"https://your-cluster.weaviate.network\"\n",
    "    auth_credentials=os.getenv(\"WEAVIATE_API_KEY\")  # Your API key\n",
    ")\n",
    "\n",
    "# ✅ Check connection\n",
    "if client.is_ready():\n",
    "    print(\"✅ Connected to Weaviate successfully!\")\n",
    "else:\n",
    "    print(\"❌ Connection failed.\")\n"
   ]
  },
  {
   "cell_type": "code",
   "execution_count": 21,
   "id": "7fa0924a",
   "metadata": {},
   "outputs": [
    {
     "name": "stdout",
     "output_type": "stream",
     "text": [
      "ℹ️ Collection 'MedicalChatbot' already exists\n"
     ]
    }
   ],
   "source": [
    "from weaviate.classes.config import Property, DataType\n",
    "\n",
    "collection_name = \"MedicalChatbot\"\n",
    "\n",
    "# ✅ Fetch all existing collections (returns list of strings)\n",
    "existing_collections = client.collections.list_all()\n",
    "\n",
    "# ✅ Create collection if not exists\n",
    "if collection_name not in existing_collections:\n",
    "    client.collections.create(\n",
    "        name=collection_name,\n",
    "        vectorizer_config=None,  # Custom embeddings since we use HuggingFace\n",
    "        properties=[\n",
    "            Property(name=\"content\", data_type=DataType.TEXT),\n",
    "            Property(name=\"source\", data_type=DataType.TEXT)\n",
    "        ]\n",
    "    )\n",
    "    print(f\"✅ Created collection '{collection_name}'\")\n",
    "else:\n",
    "    print(f\"ℹ️ Collection '{collection_name}' already exists\")\n",
    "\n",
    "# ✅ Get the collection handle\n",
    "collection = client.collections.get(collection_name)\n"
   ]
  },
  {
   "cell_type": "code",
   "execution_count": 22,
   "id": "4b2cba78",
   "metadata": {},
   "outputs": [
    {
     "name": "stdout",
     "output_type": "stream",
     "text": [
      "✅ Documents added to Weaviate collection successfully!\n"
     ]
    }
   ],
   "source": [
    "from langchain_weaviate import WeaviateVectorStore\n",
    "\n",
    "\n",
    "docsearch = WeaviateVectorStore.from_documents(\n",
    "    client=client,\n",
    "    documents=chunked_data,\n",
    "    embedding=embedding,\n",
    "    index_name=\"MedicalChatbot\"\n",
    ")\n",
    "\n",
    "print(\"✅ Documents added to Weaviate collection successfully!\")\n"
   ]
  },
  {
   "cell_type": "code",
   "execution_count": 32,
   "id": "51352dbc",
   "metadata": {},
   "outputs": [
    {
     "name": "stdout",
     "output_type": "stream",
     "text": [
      "✅ Connected to existing Weaviate collection successfully!\n"
     ]
    }
   ],
   "source": [
    "from langchain_weaviate import WeaviateVectorStore\n",
    "\n",
    "\n",
    "docsearch = WeaviateVectorStore(\n",
    "    client=client,\n",
    "    index_name=\"MedicalChatbot\",\n",
    "    text_key=\"text\", \n",
    "    embedding=embedding\n",
    ")\n",
    "\n",
    "print(\"✅ Connected to existing Weaviate collection successfully!\")\n"
   ]
  },
  {
   "cell_type": "code",
   "execution_count": 33,
   "id": "98318540",
   "metadata": {},
   "outputs": [
    {
     "name": "stdout",
     "output_type": "stream",
     "text": [
      "✅ Added new document successfully!\n"
     ]
    }
   ],
   "source": [
    "from langchain.schema import Document\n",
    "\n",
    "new_doc = Document(\n",
    "    page_content=\"Skin hydration plays a key role in preventing acne formation.\",\n",
    "    metadata={\"source\": \"Medical Tips\"}\n",
    ")\n",
    "\n",
    "# Add this new document to the same collection\n",
    "docsearch.add_documents([new_doc])\n",
    "print(\"✅ Added new document successfully!\")\n"
   ]
  },
  {
   "cell_type": "code",
   "execution_count": 34,
   "id": "89b0bc83",
   "metadata": {},
   "outputs": [],
   "source": [
    "retriever = docsearch.as_retriever(search_type=\"similarity\", search_kwargs={\"k\": 3})"
   ]
  },
  {
   "cell_type": "code",
   "execution_count": 38,
   "id": "d3bd2b37",
   "metadata": {},
   "outputs": [
    {
     "name": "stdout",
     "output_type": "stream",
     "text": [
      "📄 shoulders, and back since these are the parts of the body\n",
      "where the most sebaceous follicles are found.\n",
      "Causes and symptoms\n",
      "The exact cause of acne is unknown. Several risk\n",
      "factors have been identifie...\n",
      "Source: data\\Medical_book.pdf\n",
      "📄 Acidosis see Respiratory acidosis; Renal\n",
      "tubular acidosis; Metabolic acidosis\n",
      "Acne\n",
      "Definition\n",
      "Acne is a common skin disease characterized by\n",
      "pimples on the face, chest, and back. It occurs when the\n",
      "po...\n",
      "Source: data\\Medical_book.pdf\n",
      "📄 GALE ENCYCLOPEDIA OF MEDICINE 2 25\n",
      "Acne\n",
      "Acne vulgaris affecting a woman’s face. Acne is the general\n",
      "name given to a skin disorder in which the sebaceous\n",
      "glands become inflamed. (Photograph by Biophoto...\n",
      "Source: data\\Medical_book.pdf\n"
     ]
    }
   ],
   "source": [
    "query = \"What causes acne?\"\n",
    "retrieved_docs = retriever.invoke(query)\n",
    "for doc in retrieved_docs:\n",
    "    print(f\"📄 {doc.page_content[:200]}...\\nSource: {doc.metadata.get('source')}\")\n"
   ]
  },
  {
   "cell_type": "code",
   "execution_count": 75,
   "id": "38a23863",
   "metadata": {},
   "outputs": [],
   "source": [
    "import os\n",
    "from dotenv import load_dotenv\n",
    "from langchain_openai import ChatOpenAI\n",
    "from langchain.chains import create_retrieval_chain\n",
    "from langchain.chains.combine_documents import create_stuff_documents_chain\n",
    "from langchain_core.prompts import ChatPromptTemplate\n",
    "from langchain_weaviate import WeaviateVectorStore\n",
    "from langchain.schema import Document\n",
    "\n",
    "# ✅ Load environment variables\n",
    "load_dotenv()\n",
    "\n",
    "# ✅ Initialize Chat model using OpenRouter\n",
    "chat_model = ChatOpenAI(\n",
    "    model=\"mistralai/mistral-nemo:free\",  # OpenRouter model\n",
    "    temperature=0.2,\n",
    "    max_tokens=1024,\n",
    "    openai_api_key=os.getenv(\"OPENROUTER_API_KEY\"),\n",
    "    openai_api_base=os.getenv(\"OPENROUTER_API_BASE\")\n",
    ")\n",
    "\n",
    "# ✅ Create system prompt template\n",
    "system_prompt = (\n",
    "    \"You are a medical assistant for question-answering tasks. \"\n",
    "    \"Use the following context to answer the question in a concise way (max 3 sentences). \"\n",
    "    \"If you don't know the answer, say you don't know.\\n\\n\"\n",
    "    \"Context:\\n{context}\"\n",
    ")\n",
    "\n",
    "prompt = ChatPromptTemplate.from_messages(\n",
    "    [\n",
    "        (\"system\", system_prompt),\n",
    "        (\"human\", \"{input}\"),\n",
    "    ]\n",
    ")\n"
   ]
  },
  {
   "cell_type": "code",
   "execution_count": 77,
   "id": "c47de1e1",
   "metadata": {},
   "outputs": [],
   "source": [
    "question_answer_chain = create_stuff_documents_chain(chat_model, prompt)\n",
    "rag_chain = create_retrieval_chain(retriever, question_answer_chain)"
   ]
  },
  {
   "cell_type": "code",
   "execution_count": 79,
   "id": "9da93d0a",
   "metadata": {},
   "outputs": [
    {
     "name": "stdout",
     "output_type": "stream",
     "text": [
      "Acromegaly is a hormonal disorder caused by excess growth hormone (GH) from the pituitary gland, leading to enlargement of bones and soft tissues, particularly in the hands, feet, and face. Gigantism is a similar condition but occurs when excess GH is produced during childhood, resulting in excessive growth in height.\n"
     ]
    }
   ],
   "source": [
    "response = rag_chain.invoke({\"input\": \"what is Acromegaly and gigantism?\"})\n",
    "print(response[\"answer\"])"
   ]
  },
  {
   "cell_type": "code",
   "execution_count": 80,
   "id": "aac2b293",
   "metadata": {},
   "outputs": [
    {
     "name": "stdout",
     "output_type": "stream",
     "text": [
      "Acne is a common skin condition caused by clogged pores with oil, dead skin cells, and bacteria, leading to pimples.\n"
     ]
    }
   ],
   "source": [
    "response = rag_chain.invoke({\"input\": \"what is Acne?\"})\n",
    "print(response[\"answer\"])"
   ]
  }
 ],
 "metadata": {
  "kernelspec": {
   "display_name": "venv",
   "language": "python",
   "name": "python3"
  },
  "language_info": {
   "codemirror_mode": {
    "name": "ipython",
    "version": 3
   },
   "file_extension": ".py",
   "mimetype": "text/x-python",
   "name": "python",
   "nbconvert_exporter": "python",
   "pygments_lexer": "ipython3",
   "version": "3.11.0"
  }
 },
 "nbformat": 4,
 "nbformat_minor": 5
}
